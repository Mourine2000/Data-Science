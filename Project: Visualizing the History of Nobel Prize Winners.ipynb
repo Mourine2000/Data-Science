{
 "cells": [
  {
   "cell_type": "code",
   "execution_count": null,
   "id": "0591742a",
   "metadata": {},
   "outputs": [
    {
     "name": "stdout",
     "output_type": "stream",
     "text": [
      "Nobel_Datafarame:      year    category                                              prize  \\\n",
      "0    1901   Chemistry                  The Nobel Prize in Chemistry 1901   \n",
      "1    1901  Literature                 The Nobel Prize in Literature 1901   \n",
      "2    1901    Medicine     The Nobel Prize in Physiology or Medicine 1901   \n",
      "3    1901       Peace                         The Nobel Peace Prize 1901   \n",
      "4    1901       Peace                         The Nobel Peace Prize 1901   \n",
      "..    ...         ...                                                ...   \n",
      "995  2023   Chemistry                  The Nobel Prize in Chemistry 2023   \n",
      "996  2023   Chemistry                  The Nobel Prize in Chemistry 2023   \n",
      "997  2023  Literature                 The Nobel Prize in Literature 2023   \n",
      "998  2023       Peace                         The Nobel Peace Prize 2023   \n",
      "999  2023   Economics  The Sveriges Riksbank Prize in Economic Scienc...   \n",
      "\n",
      "                                            motivation prize_share  \\\n",
      "0    \"in recognition of the extraordinary services ...         1/1   \n",
      "1    \"in special recognition of his poetic composit...         1/1   \n",
      "2    \"for his work on serum therapy, especially its...         1/1   \n",
      "3                                                  NaN         1/2   \n",
      "4                                                  NaN         1/2   \n",
      "..                                                 ...         ...   \n",
      "995  \"for the discovery and synthesis of quantum dots\"         1/3   \n",
      "996  \"for the discovery and synthesis of quantum dots\"         1/3   \n",
      "997  \"for his innovative plays and prose which give...         1/1   \n",
      "998  \"for her fight against the oppression of women...         1/1   \n",
      "999  \"for having advanced our understanding of wome...         1/1   \n",
      "\n",
      "     laureate_id laureate_type                     full_name  birth_date  \\\n",
      "0            160    Individual  Jacobus Henricus van 't Hoff  1852-08-30   \n",
      "1            569    Individual               Sully Prudhomme  1839-03-16   \n",
      "2            293    Individual        Emil Adolf von Behring  1854-03-15   \n",
      "3            462    Individual             Jean Henry Dunant  1828-05-08   \n",
      "4            463    Individual                Frédéric Passy  1822-05-20   \n",
      "..           ...           ...                           ...         ...   \n",
      "995         1030    Individual                    Louis Brus  1943-00-00   \n",
      "996         1031    Individual               Aleksey Yekimov  1945-00-00   \n",
      "997         1032    Individual                     Jon Fosse  1959-09-29   \n",
      "998         1033    Individual              Narges Mohammadi  1972-04-21   \n",
      "999         1034    Individual                Claudia Goldin  1946-00-00   \n",
      "\n",
      "            birth_city             birth_country     sex  \\\n",
      "0            Rotterdam               Netherlands    Male   \n",
      "1                Paris                    France    Male   \n",
      "2    Hansdorf (Lawice)          Prussia (Poland)    Male   \n",
      "3               Geneva               Switzerland    Male   \n",
      "4                Paris                    France    Male   \n",
      "..                 ...                       ...     ...   \n",
      "995      Cleveland, OH  United States of America    Male   \n",
      "996                NaN         USSR (now Russia)    Male   \n",
      "997          Haugesund                    Norway    Male   \n",
      "998             Zanjan                      Iran  Female   \n",
      "999       New York, NY  United States of America  Female   \n",
      "\n",
      "                organization_name organization_city      organization_country  \\\n",
      "0               Berlin University            Berlin                   Germany   \n",
      "1                             NaN               NaN                       NaN   \n",
      "2              Marburg University           Marburg                   Germany   \n",
      "3                             NaN               NaN                       NaN   \n",
      "4                             NaN               NaN                       NaN   \n",
      "..                            ...               ...                       ...   \n",
      "995           Columbia University      New York, NY  United States of America   \n",
      "996  Nanocrystals Technology Inc.      New York, NY  United States of America   \n",
      "997                           NaN               NaN                       NaN   \n",
      "998                           NaN               NaN                       NaN   \n",
      "999            Harvard University     Cambridge, MA  United States of America   \n",
      "\n",
      "     death_date death_city death_country  \n",
      "0    1911-03-01     Berlin       Germany  \n",
      "1    1907-09-07   Châtenay        France  \n",
      "2    1917-03-31    Marburg       Germany  \n",
      "3    1910-10-30     Heiden   Switzerland  \n",
      "4    1912-06-12      Paris        France  \n",
      "..          ...        ...           ...  \n",
      "995         NaN        NaN           NaN  \n",
      "996         NaN        NaN           NaN  \n",
      "997         NaN        NaN           NaN  \n",
      "998         NaN        NaN           NaN  \n",
      "999         NaN        NaN           NaN  \n",
      "\n",
      "[1000 rows x 18 columns]\n"
     ]
    }
   ],
   "source": [
    "# Loading in required libraries\n",
    "import pandas as pd\n",
    "import seaborn as sns\n",
    "import numpy as np\n",
    "\n",
    "# Load the nobel dataset\n",
    "nobel_df= pd.read_csv(\"nobel.csv\")\n",
    "print(f\"Nobel_Datafarame: {nobel_df}\")"
   ]
  },
  {
   "cell_type": "code",
   "execution_count": null,
   "id": "4ddc6503",
   "metadata": {},
   "outputs": [
    {
     "name": "stdout",
     "output_type": "stream",
     "text": [
      "Top gender\n",
      " Male\n",
      "Top country\n",
      " United States of America\n"
     ]
    }
   ],
   "source": [
    "#Find the gender and the country with the most number of prizes\n",
    "top_gender= nobel_df['sex'].value_counts().index[0]\n",
    "print(f\"Top gender\\n {top_gender}\")\n",
    "\n",
    "top_country= nobel_df['birth_country'].value_counts().index[0]\n",
    "print(f\"Top country\\n {top_country}\")"
   ]
  },
  {
   "cell_type": "code",
   "execution_count": null,
   "id": "86587c85",
   "metadata": {},
   "outputs": [
    {
     "data": {
      "text/plain": [
       "np.int64(2000)"
      ]
     },
     "execution_count": 3,
     "metadata": {},
     "output_type": "execute_result"
    }
   ],
   "source": [
    "#Get the decade with the biggest portion of US-Born Prize winners\n",
    "def get_decade(year):\n",
    "    return (year // 10) * 10\n",
    "\n",
    "nobel_df['Decade'] = nobel_df['year'].apply(get_decade)\n",
    "\n",
    "nobel_df['Is_US_Born'] = (nobel_df['birth_country'] == 'United States of America').astype(int)\n",
    "decade_summary = nobel_df.groupby('Decade').agg(\n",
    "    Total_Winners=('full_name', 'count'),\n",
    "    US_Born_Winners=('Is_US_Born', 'sum')\n",
    ").reset_index()\n",
    "decade_summary['US_Born_Ratio'] = decade_summary['US_Born_Winners'] / decade_summary['Total_Winners']\n",
    "max_decade_usa = decade_summary.loc[decade_summary['US_Born_Ratio'].idxmax()]['Decade'].astype('int')\n",
    "max_decade_usa"
   ]
  },
  {
   "cell_type": "code",
   "execution_count": null,
   "id": "9ad339f7",
   "metadata": {},
   "outputs": [
    {
     "name": "stdout",
     "output_type": "stream",
     "text": [
      "2020.0\n",
      "Literature\n"
     ]
    }
   ],
   "source": [
    "#Get the deacde with the biggest portion of female winners and the category\n",
    "nobel_df['female_prop'] = (nobel_df['sex'] == 'Female')\n",
    "female_summary = nobel_df.groupby('Decade').agg(\n",
    "    Total_Winners=('full_name', 'count'),\n",
    "    Female_Winners=('female_prop', 'sum')\n",
    ").reset_index()\n",
    "female_summary['female_ratio'] = female_summary['Female_Winners'] / female_summary['Total_Winners']\n",
    "max_female = female_summary.loc[female_summary['female_ratio'].idxmax()]['Decade']\n",
    "print(max_female)\n",
    "\n",
    "nobel_df['female_prop'] = (nobel_df['sex'] == 'Female')\n",
    "female_summary = nobel_df.groupby('category').agg(\n",
    "    Total_Winners=('full_name', 'count'),\n",
    "    Female_Winners=('female_prop', 'sum')\n",
    ").reset_index()\n",
    "female_summary['female_cat'] = female_summary['Female_Winners'] / female_summary['Total_Winners']\n",
    "max_female1 = female_summary.loc[female_summary['female_cat'].idxmax()]['category']\n",
    "print(max_female1)"
   ]
  },
  {
   "cell_type": "code",
   "execution_count": null,
   "id": "0f22bf22",
   "metadata": {},
   "outputs": [
    {
     "data": {
      "text/plain": [
       "{np.int64(2020): 'Literature'}"
      ]
     },
     "execution_count": 5,
     "metadata": {},
     "output_type": "execute_result"
    }
   ],
   "source": [
    "#Put it in a dictionary\n",
    "max_female_dict = {max_female.astype('int'):max_female1}\n",
    "max_female_dict"
   ]
  },
  {
   "cell_type": "code",
   "execution_count": null,
   "id": "ae4a4772",
   "metadata": {},
   "outputs": [
    {
     "name": "stderr",
     "output_type": "stream",
     "text": [
      "/tmp/ipykernel_9699/249554765.py:2: FutureWarning: Series.__getitem__ treating keys as positions is deprecated. In a future version, integer keys will always be treated as labels (consistent with DataFrame behavior). To access a value by position, use `ser.iloc[pos]`\n",
      "  first_woman_name=max_female1[0]\n",
      "/tmp/ipykernel_9699/249554765.py:3: FutureWarning: Series.__getitem__ treating keys as positions is deprecated. In a future version, integer keys will always be treated as labels (consistent with DataFrame behavior). To access a value by position, use `ser.iloc[pos]`\n",
      "  first_woman_category=max_female1[1]\n"
     ]
    },
    {
     "data": {
      "text/plain": [
       "'Marie Curie, née Sklodowska'"
      ]
     },
     "execution_count": 6,
     "metadata": {},
     "output_type": "execute_result"
    }
   ],
   "source": [
    "#The first woman that won the prize and the category \n",
    "max_female1 = nobel_df.loc[nobel_df['sex'] == \"Female\"][['full_name','category', 'year', ]].iloc[0]\n",
    "first_woman_name=max_female1[0]\n",
    "first_woman_category=max_female1[1]\n",
    "first_woman_name"
   ]
  },
  {
   "cell_type": "code",
   "execution_count": null,
   "id": "ac5ec4fe",
   "metadata": {},
   "outputs": [
    {
     "data": {
      "text/plain": [
       "['Marie Curie, née Sklodowska',\n",
       " 'Comité international de la Croix Rouge (International Committee of the Red Cross)',\n",
       " 'Linus Carl Pauling',\n",
       " 'John Bardeen',\n",
       " 'Frederick Sanger',\n",
       " 'Office of the United Nations High Commissioner for Refugees (UNHCR)']"
      ]
     },
     "execution_count": 7,
     "metadata": {},
     "output_type": "execute_result"
    }
   ],
   "source": [
    "#Names or organizations taht won the prize more than once\n",
    "repeat_list = nobel_df['full_name'][nobel_df['full_name'].duplicated()].unique().tolist()\n",
    "repeat_list\n"
   ]
  }
 ],
 "metadata": {
  "kernelspec": {
   "display_name": "Python 3",
   "language": "python",
   "name": "python3"
  },
  "language_info": {
   "codemirror_mode": {
    "name": "ipython",
    "version": 3
   },
   "file_extension": ".py",
   "mimetype": "text/x-python",
   "name": "python",
   "nbconvert_exporter": "python",
   "pygments_lexer": "ipython3",
   "version": "3.12.1"
  }
 },
 "nbformat": 4,
 "nbformat_minor": 5
}
